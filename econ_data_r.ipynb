{
 "cells": [
  {
   "cell_type": "markdown",
   "id": "db419635-9e2a-4ed0-91d5-01e0b5eb3a6d",
   "metadata": {},
   "source": [
    "# Connecting to econ data in Sagemaker Studio Lab with R \n",
    "\n",
    "[![Open In SageMaker Studio Lab](https://studiolab.sagemaker.aws/studiolab.svg)](https://studiolab.sagemaker.aws/import/github/MarjorieRWillner/DisasterHack/blob/main/econ_data_extract_r.ipynb)\n",
    "\n",
    "## FRED data\n",
    "\n",
    "Short for Federal Reserve Economic Data, FRED is an online database consisting of hundreds of thousands of economic data time series from scores of national, international, public, and private sources. FRED, created and maintained by the Research Department at the Federal Reserve Bank of St. Louis, goes far beyond simply providing data: It combines data with a powerful mix of tools that help the user understand, interact with, display, and disseminate the data. In essence, FRED helps users tell their data stories. The purpose of this article is to guide the potential (or current) FRED user through the various aspects and tools of the database.\n",
    "\n",
    "This is likely the easiest way to get data from U.S. statistical agencies like the Census and the BLS. In order to get this code to work you must obtain an api key from FRED: https://fredaccount.stlouisfed.org/apikeys\n",
    "\n",
    "We will be using the fredr package: https://sboysel.github.io/fredr/index.html"
   ]
  },
  {
   "cell_type": "code",
   "execution_count": 6,
   "id": "35d9dcab-fad1-4ac8-afa0-2aeb66317de9",
   "metadata": {},
   "outputs": [
    {
     "name": "stdout",
     "output_type": "stream",
     "text": [
      "Rows: 102\n",
      "Columns: 5\n",
      "$ date           \u001b[3m\u001b[90m<date>\u001b[39m\u001b[23m 2020-01-01, 2021-01-01, 2020-01-01, 2021-01-01, 2020-0…\n",
      "$ series_id      \u001b[3m\u001b[90m<chr>\u001b[39m\u001b[23m \"ALPOP\", \"ALPOP\", \"AKPOP\", \"AKPOP\", \"AZPOP\", \"AZPOP\", \"…\n",
      "$ value          \u001b[3m\u001b[90m<dbl>\u001b[39m\u001b[23m 5024.803, 5039.877, 732.441, 732.673, 7177.986, 7276.31…\n",
      "$ realtime_start \u001b[3m\u001b[90m<date>\u001b[39m\u001b[23m 2022-01-21, 2022-01-21, 2022-01-21, 2022-01-21, 2022-0…\n",
      "$ realtime_end   \u001b[3m\u001b[90m<date>\u001b[39m\u001b[23m 2022-01-21, 2022-01-21, 2022-01-21, 2022-01-21, 2022-0…\n"
     ]
    }
   ],
   "source": [
    "# This code will gather the population of each US state over time\n",
    "\n",
    "# install.packages(\"fredr\")\n",
    "# install.packages(\"tidyverse\")\n",
    "suppressWarnings(suppressMessages(library(fredr)))\n",
    "suppressWarnings(suppressMessages(library(tidyverse)))\n",
    "\n",
    "# your api key goes here\n",
    "fredr_set_key(\"\")\n",
    "\n",
    "# the fredr series id we want is DCPOP, FLPOP, VAPOP, MDPOP, etc. We will create\n",
    "# a list with all the states in the format of [ST]POP.\n",
    "state_id <- c(map_chr(state.abb, ~ paste0(.x, \"POP\")), \"DCPOP\")\n",
    "\n",
    "# We can now map over state_id and get the population for each state using the\n",
    "# fredr() function\n",
    "state_df <- map_dfr(\n",
    "  state_id,\n",
    "  ~ fredr(\n",
    "    series_id = .x, \n",
    "    observation_start = as.Date(\"2020-01-01\"), \n",
    "    observation_end = as.Date(\"2021-01-01\")\n",
    "    )\n",
    "  )\n",
    "\n",
    "glimpse(state_df)"
   ]
  },
  {
   "cell_type": "markdown",
   "id": "979e953b-b716-471f-bc7b-8a8342e5b718",
   "metadata": {},
   "source": [
    "***\n",
    "## Census data\n",
    "\n",
    "Connect to Census via the tidycensus package - tidycensus is an R package that allows users to interface with a select number of the US Census Bureau’s data APIs and return tidyverse-ready data frames, optionally with simple feature geometry included.\n",
    "\n",
    "Accessing the Census directly allows for retrievel of ACS microdata files so that we can combine in a way that makes sense for our project. To get started working with tidycensus, users should load the package along with the tidyverse package, and set their Census API key. A key can be obtained from http://api.census.gov/data/key_signup.html.\n",
    "\n",
    "NOTE: To install tidycensus in sagemake you need to run the following code in the terminal \n",
    "\n",
    "    conda install -n R -c conda-forge r-tidycensus\n",
    "\n",
    "Reference: https://aws.amazon.com/blogs/machine-learning/creating-a-persistent-custom-r-environment-for-amazon-sagemaker/"
   ]
  },
  {
   "cell_type": "code",
   "execution_count": null,
   "id": "317da57a-1917-4235-b6bb-875074f6b0aa",
   "metadata": {},
   "outputs": [],
   "source": [
    "# you can run terminal commands in r via the system() function as shown here.\n",
    "system(command = 'conda install -c r tidycensus --yes')"
   ]
  },
  {
   "cell_type": "markdown",
   "id": "505e3abf-bdae-4ba3-8d91-2770b2b18ffc",
   "metadata": {},
   "source": [
    "***\n",
    "get_pums() returns some technical variables by default without the user needing to request them specifically. These include:\n",
    "\n",
    "- SERIALNO: a serial number that uniquely identifies households in the sample;\n",
    "- SPORDER: the order of the person in the household; when combined with SERIALNO, uniquely identifies a person;\n",
    "- WGTP: the household weight;\n",
    "- PWGTP: the person weight\n",
    "- PUMA: Public Use Microdata Areas (PUMAs) are the smallest available geographies at which records are identifiable in the PUMS datasets. PUMAs are redrawn with each decennial US Census, and typically are home to 100,000-200,000 people. In large cities, a PUMA will represent a collection of nearby neighborhoods; in rural areas, it might represent several counties across a large area of a state.\n",
    "\n",
    "It is a long-form dataset that organizes specific value codes by variable so you know what you can get. You'll use information in the var_code column to fetch variables, but pay attention to the var_label, val_code, val_label, and data_type columns."
   ]
  },
  {
   "cell_type": "code",
   "execution_count": null,
   "id": "b97dd6bc-2cc2-4e8b-99eb-93b62b096173",
   "metadata": {},
   "outputs": [
    {
     "name": "stderr",
     "output_type": "stream",
     "text": [
      "To install your API key for use in future sessions, run this function with `install = TRUE`.\n",
      "\n"
     ]
    },
    {
     "name": "stdout",
     "output_type": "stream",
     "text": [
      "Rows: 5,277\n",
      "Columns: 12\n",
      "$ survey     \u001b[3m\u001b[90m<chr>\u001b[39m\u001b[23m \"acs5\", \"acs5\", \"acs5\", \"acs5\", \"acs5\", \"acs5\", \"acs5\", \"ac…\n",
      "$ year       \u001b[3m\u001b[90m<chr>\u001b[39m\u001b[23m \"2019\", \"2019\", \"2019\", \"2019\", \"2019\", \"2019\", \"2019\", \"20…\n",
      "$ var_code   \u001b[3m\u001b[90m<chr>\u001b[39m\u001b[23m \"ENG\", \"ENG\", \"ENG\", \"ENG\", \"ENG\", \"FENGP\", \"FENGP\", \"ACCES…\n",
      "$ var_label  \u001b[3m\u001b[90m<chr>\u001b[39m\u001b[23m \"Ability to speak English\", \"Ability to speak English\", \"Ab…\n",
      "$ data_type  \u001b[3m\u001b[90m<chr>\u001b[39m\u001b[23m \"chr\", \"chr\", \"chr\", \"chr\", \"chr\", \"chr\", \"chr\", \"chr\", \"ch…\n",
      "$ level      \u001b[3m\u001b[90m<chr>\u001b[39m\u001b[23m \"person\", \"person\", \"person\", \"person\", \"person\", \"person\",…\n",
      "$ val_min    \u001b[3m\u001b[90m<chr>\u001b[39m\u001b[23m \"b\", \"1\", \"2\", \"3\", \"4\", \"0\", \"1\", \"b\", \"1\", \"2\", \"3\", \"b\",…\n",
      "$ val_max    \u001b[3m\u001b[90m<chr>\u001b[39m\u001b[23m \"b\", \"1\", \"2\", \"3\", \"4\", \"0\", \"1\", \"b\", \"1\", \"2\", \"3\", \"b\",…\n",
      "$ val_label  \u001b[3m\u001b[90m<chr>\u001b[39m\u001b[23m \"N/A (less than 5 years old/speaks only English)\", \"Very we…\n",
      "$ recode     \u001b[3m\u001b[90m<lgl>\u001b[39m\u001b[23m TRUE, TRUE, TRUE, TRUE, TRUE, TRUE, TRUE, TRUE, TRUE, TRUE,…\n",
      "$ val_length \u001b[3m\u001b[90m<int>\u001b[39m\u001b[23m 1, 1, 1, 1, 1, 1, 1, 1, 1, 1, 1, 1, 1, 1, 7, 7, 7, 7, 7, 7,…\n",
      "$ val_na     \u001b[3m\u001b[90m<dbl>\u001b[39m\u001b[23m 0, 0, 0, 0, 0, NA, NA, 0, 0, 0, 0, -1, -1, -1, NA, NA, NA, …\n"
     ]
    }
   ],
   "source": [
    "suppressWarnings(suppressMessages(library(\"tidycensus\")))\n",
    "\n",
    "# your api key goes here\n",
    "census_api_key(\"\", overwrite = TRUE, install = FALSE)\n",
    "\n",
    "# we can get a list of all the variables that are available to us to choose from\n",
    "pums_var <- pums_variables %>%\n",
    "  filter(year == 2019, survey == \"acs5\") %>%\n",
    "  arrange(var_label) \n",
    "\n",
    "# we now have a table with all the variables available to us\n",
    "glimpse(pums_var)"
   ]
  },
  {
   "cell_type": "markdown",
   "id": "f8efad61-47d0-4e22-925b-aaafd5afe819",
   "metadata": {},
   "source": [
    "There are *more than 500* variables to choose from. Please reference the PUMS data dictionary located here: https://www2.census.gov/programs-surveys/acs/tech_docs/pums/data_dict/. \n",
    "\n",
    "The most recent 5 year ACS data dictionary is here: https://www2.census.gov/programs-surveys/acs/tech_docs/pums/data_dict/PUMS_Data_Dictionary_2015-2019.pdf \n",
    "\n",
    "The most recent 1 year ACS data dictionary is here: https://www2.census.gov/programs-surveys/acs/tech_docs/pums/data_dict/PUMS_Data_Dictionary_2019.pdf\n",
    "\n",
    "Once you know what you want you can use the get_pums() function to bring in all the microdata. \n",
    "\n",
    "**WARNING** Be careful here, Census ACS microdata is huge and can take a long time to retrieve if the request is not targetted well enough."
   ]
  },
  {
   "cell_type": "code",
   "execution_count": 5,
   "id": "175724da-afaa-4981-9efa-24717f84c5b3",
   "metadata": {},
   "outputs": [
    {
     "name": "stderr",
     "output_type": "stream",
     "text": [
      "Getting data from the 2019 1-year ACS Public Use Microdata Sample\n",
      "\n"
     ]
    },
    {
     "name": "stdout",
     "output_type": "stream",
     "text": [
      "Downloading: 15 MB        Rows: 60,237\n",
      "Columns: 63\n",
      "$ SERIALNO       \u001b[3m\u001b[90m<chr>\u001b[39m\u001b[23m \"2019GQ0000094\", \"2019GQ0000395\", \"2019GQ0000407\", \"201…\n",
      "$ SPORDER        \u001b[3m\u001b[90m<dbl>\u001b[39m\u001b[23m 1, 1, 1, 1, 1, 1, 1, 1, 1, 1, 1, 1, 1, 1, 1, 1, 1, 1, 1…\n",
      "$ WGTP           \u001b[3m\u001b[90m<dbl>\u001b[39m\u001b[23m 0, 0, 0, 0, 0, 0, 0, 0, 0, 0, 0, 0, 0, 0, 0, 0, 0, 0, 0…\n",
      "$ PWGTP          \u001b[3m\u001b[90m<dbl>\u001b[39m\u001b[23m 72, 81, 26, 118, 26, 31, 63, 98, 6, 64, 42, 10, 20, 11,…\n",
      "$ AGEP           \u001b[3m\u001b[90m<dbl>\u001b[39m\u001b[23m 19, 33, 95, 21, 68, 18, 21, 23, 95, 56, 40, 19, 64, 66,…\n",
      "$ CITWP          \u001b[3m\u001b[90m<dbl>\u001b[39m\u001b[23m 1943, 2016, 1943, 1943, 1943, 1943, 1943, 1943, 1943, 1…\n",
      "$ ELEP           \u001b[3m\u001b[90m<dbl>\u001b[39m\u001b[23m 2, 2, 2, 2, 2, 2, 2, 2, 2, 2, 2, 2, 2, 2, 2, 2, 2, 2, 2…\n",
      "$ FINCP          \u001b[3m\u001b[90m<dbl>\u001b[39m\u001b[23m -60000, -60000, -60000, -60000, -60000, -60000, -60000,…\n",
      "$ GASP           \u001b[3m\u001b[90m<dbl>\u001b[39m\u001b[23m 3, 3, 3, 3, 3, 3, 3, 3, 3, 3, 3, 3, 3, 3, 3, 3, 3, 3, 3…\n",
      "$ GRNTP          \u001b[3m\u001b[90m<dbl>\u001b[39m\u001b[23m 0, 0, 0, 0, 0, 0, 0, 0, 0, 0, 0, 0, 0, 0, 0, 0, 0, 0, 0…\n",
      "$ GRPIP          \u001b[3m\u001b[90m<dbl>\u001b[39m\u001b[23m 0, 0, 0, 0, 0, 0, 0, 0, 0, 0, 0, 0, 0, 0, 0, 0, 0, 0, 0…\n",
      "$ HINCP          \u001b[3m\u001b[90m<dbl>\u001b[39m\u001b[23m -60000, -60000, -60000, -60000, -60000, -60000, -60000,…\n",
      "$ MRGP           \u001b[3m\u001b[90m<dbl>\u001b[39m\u001b[23m 0, 0, 0, 0, 0, 0, 0, 0, 0, 0, 0, 0, 0, 0, 0, 0, 0, 0, 0…\n",
      "$ NPF            \u001b[3m\u001b[90m<dbl>\u001b[39m\u001b[23m 1, 1, 1, 1, 1, 1, 1, 1, 1, 1, 1, 1, 1, 1, 1, 1, 1, 1, 1…\n",
      "$ OCPIP          \u001b[3m\u001b[90m<dbl>\u001b[39m\u001b[23m 0, 0, 0, 0, 0, 0, 0, 0, 0, 0, 0, 0, 0, 0, 0, 0, 0, 0, 0…\n",
      "$ PINCP          \u001b[3m\u001b[90m<dbl>\u001b[39m\u001b[23m 6800, 0, 21400, 0, 19000, 2000, 20050, 5000, 0, 9400, 9…\n",
      "$ PERNP          \u001b[3m\u001b[90m<dbl>\u001b[39m\u001b[23m 6800, 0, 0, 0, 0, 2000, 20000, 5000, 0, 9400, 0, 16200,…\n",
      "$ POVPIP         \u001b[3m\u001b[90m<dbl>\u001b[39m\u001b[23m -1, -1, -1, -1, -1, -1, -1, -1, 0, 71, 68, -1, -1, -1, …\n",
      "$ RNTP           \u001b[3m\u001b[90m<dbl>\u001b[39m\u001b[23m 0, 0, 0, 0, 0, 0, 0, 0, 0, 0, 0, 0, 0, 0, 0, 0, 0, 0, 0…\n",
      "$ TAXAMT         \u001b[3m\u001b[90m<dbl>\u001b[39m\u001b[23m -1, -1, -1, -1, -1, -1, -1, -1, -1, -1, -1, -1, -1, -1,…\n",
      "$ WAGP           \u001b[3m\u001b[90m<dbl>\u001b[39m\u001b[23m 6800, 0, 0, 0, 0, 2000, 20000, 5000, 0, 9400, 0, 16200,…\n",
      "$ WATP           \u001b[3m\u001b[90m<dbl>\u001b[39m\u001b[23m 2, 2, 2, 2, 2, 2, 2, 2, 2, 2, 2, 2, 2, 2, 2, 2, 2, 2, 2…\n",
      "$ YOEP           \u001b[3m\u001b[90m<dbl>\u001b[39m\u001b[23m 1928, 2000, 1928, 1928, 1928, 1928, 1928, 1928, 1928, 1…\n",
      "$ RT             \u001b[3m\u001b[90m<chr>\u001b[39m\u001b[23m \"P\", \"P\", \"P\", \"P\", \"P\", \"P\", \"P\", \"P\", \"P\", \"P\", \"P\", …\n",
      "$ PUMA           \u001b[3m\u001b[90m<chr>\u001b[39m\u001b[23m \"00100\", \"01105\", \"01600\", \"00804\", \"01300\", \"01101\", \"…\n",
      "$ REGION         \u001b[3m\u001b[90m<chr>\u001b[39m\u001b[23m \"3\", \"3\", \"3\", \"3\", \"3\", \"3\", \"3\", \"3\", \"3\", \"3\", \"3\", …\n",
      "$ ST             \u001b[3m\u001b[90m<chr>\u001b[39m\u001b[23m \"24\", \"24\", \"24\", \"24\", \"24\", \"24\", \"24\", \"24\", \"24\", \"…\n",
      "$ ADJINC         \u001b[3m\u001b[90m<chr>\u001b[39m\u001b[23m \"1.010145\", \"1.010145\", \"1.010145\", \"1.010145\", \"1.0101…\n",
      "$ ACCESS         \u001b[3m\u001b[90m<chr>\u001b[39m\u001b[23m \"b\", \"b\", \"b\", \"b\", \"b\", \"b\", \"b\", \"b\", \"b\", \"b\", \"b\", …\n",
      "$ HISPEED        \u001b[3m\u001b[90m<chr>\u001b[39m\u001b[23m \"b\", \"b\", \"b\", \"b\", \"b\", \"b\", \"b\", \"b\", \"b\", \"b\", \"b\", …\n",
      "$ TEN            \u001b[3m\u001b[90m<chr>\u001b[39m\u001b[23m \"b\", \"b\", \"b\", \"b\", \"b\", \"b\", \"b\", \"b\", \"b\", \"b\", \"b\", …\n",
      "$ HHT            \u001b[3m\u001b[90m<chr>\u001b[39m\u001b[23m \"b\", \"b\", \"b\", \"b\", \"b\", \"b\", \"b\", \"b\", \"b\", \"b\", \"b\", …\n",
      "$ MV             \u001b[3m\u001b[90m<chr>\u001b[39m\u001b[23m \"b\", \"b\", \"b\", \"b\", \"b\", \"b\", \"b\", \"b\", \"b\", \"b\", \"b\", …\n",
      "$ CIT            \u001b[3m\u001b[90m<chr>\u001b[39m\u001b[23m \"1\", \"4\", \"1\", \"1\", \"1\", \"1\", \"1\", \"1\", \"1\", \"1\", \"5\", …\n",
      "$ ENG            \u001b[3m\u001b[90m<chr>\u001b[39m\u001b[23m \"b\", \"b\", \"b\", \"b\", \"b\", \"b\", \"b\", \"b\", \"b\", \"b\", \"b\", …\n",
      "$ SCHL           \u001b[3m\u001b[90m<chr>\u001b[39m\u001b[23m \"18\", \"14\", \"16\", \"14\", \"13\", \"18\", \"19\", \"12\", \"21\", \"…\n",
      "$ SEX            \u001b[3m\u001b[90m<chr>\u001b[39m\u001b[23m \"1\", \"1\", \"2\", \"1\", \"1\", \"1\", \"2\", \"1\", \"1\", \"1\", \"1\", …\n",
      "$ DECADE         \u001b[3m\u001b[90m<chr>\u001b[39m\u001b[23m \"b\", \"7\", \"b\", \"b\", \"b\", \"b\", \"b\", \"b\", \"b\", \"b\", \"6\", …\n",
      "$ MIGSP          \u001b[3m\u001b[90m<chr>\u001b[39m\u001b[23m \"024\", \"bbb\", \"bbb\", \"bbb\", \"bbb\", \"024\", \"bbb\", \"011\",…\n",
      "$ NAICSP         \u001b[3m\u001b[90m<chr>\u001b[39m\u001b[23m \"5121\", \"-1\", \"-1\", \"722Z\", \"-1\", \"722Z\", \"611M1\", \"488…\n",
      "$ NATIVITY       \u001b[3m\u001b[90m<chr>\u001b[39m\u001b[23m \"1\", \"2\", \"1\", \"1\", \"1\", \"1\", \"1\", \"1\", \"1\", \"1\", \"2\", …\n",
      "$ NOP            \u001b[3m\u001b[90m<chr>\u001b[39m\u001b[23m \"b\", \"b\", \"b\", \"b\", \"b\", \"b\", \"b\", \"b\", \"b\", \"b\", \"b\", …\n",
      "$ OCCP           \u001b[3m\u001b[90m<chr>\u001b[39m\u001b[23m \"4420\", \"0009\", \"0009\", \"4720\", \"0009\", \"4055\", \"2016\",…\n",
      "$ POBP           \u001b[3m\u001b[90m<chr>\u001b[39m\u001b[23m \"024\", \"447\", \"042\", \"024\", \"024\", \"024\", \"024\", \"011\",…\n",
      "$ RT_label       \u001b[3m\u001b[90m<ord>\u001b[39m\u001b[23m Person Record, Person Record, Person Record, Person Rec…\n",
      "$ REGION_label   \u001b[3m\u001b[90m<ord>\u001b[39m\u001b[23m South, South, South, South, South, South, South, South,…\n",
      "$ ST_label       \u001b[3m\u001b[90m<ord>\u001b[39m\u001b[23m Maryland/MD, Maryland/MD, Maryland/MD, Maryland/MD, Mar…\n",
      "$ ACCESS_label   \u001b[3m\u001b[90m<ord>\u001b[39m\u001b[23m \"N/A (GQ/vacant)\", \"N/A (GQ/vacant)\", \"N/A (GQ/vacant)\"…\n",
      "$ HISPEED_label  \u001b[3m\u001b[90m<ord>\u001b[39m\u001b[23m N/A (GQ/vacant/no paid access to the internet), N/A (GQ…\n",
      "$ TEN_label      \u001b[3m\u001b[90m<ord>\u001b[39m\u001b[23m N/A (GQ/vacant), N/A (GQ/vacant), N/A (GQ/vacant), N/A …\n",
      "$ HHT_label      \u001b[3m\u001b[90m<ord>\u001b[39m\u001b[23m \"N/A (GQ/vacant)\", \"N/A (GQ/vacant)\", \"N/A (GQ/vacant)\"…\n",
      "$ MV_label       \u001b[3m\u001b[90m<ord>\u001b[39m\u001b[23m N/A (GQ/vacant), N/A (GQ/vacant), N/A (GQ/vacant), N/A …\n",
      "$ CIT_label      \u001b[3m\u001b[90m<ord>\u001b[39m\u001b[23m \"Born in the U.S.\", \"U.S. citizen by naturalization\", \"…\n",
      "$ ENG_label      \u001b[3m\u001b[90m<ord>\u001b[39m\u001b[23m N/A (less than 5 years old/speaks only English), N/A (l…\n",
      "$ SCHL_label     \u001b[3m\u001b[90m<ord>\u001b[39m\u001b[23m \"Some college, but less than 1 year\", \"Grade 11\", \"Regu…\n",
      "$ SEX_label      \u001b[3m\u001b[90m<ord>\u001b[39m\u001b[23m Male, Male, Female, Male, Male, Male, Female, Male, Mal…\n",
      "$ DECADE_label   \u001b[3m\u001b[90m<ord>\u001b[39m\u001b[23m N/A (Born in the US), 2000 - 2009, N/A (Born in the US)…\n",
      "$ MIGSP_label    \u001b[3m\u001b[90m<ord>\u001b[39m\u001b[23m \"Maryland/MD\", \"N/A (person less than 1 year old/lived …\n",
      "$ NAICSP_label   \u001b[3m\u001b[90m<ord>\u001b[39m\u001b[23m \"INF-Motion Pictures And Video Industries\", NA, NA, \"EN…\n",
      "$ NATIVITY_label \u001b[3m\u001b[90m<ord>\u001b[39m\u001b[23m Native, Foreign born, Native, Native, Native, Native, N…\n",
      "$ NOP_label      \u001b[3m\u001b[90m<ord>\u001b[39m\u001b[23m \"N/A (greater than 17 years old/not an own child of hou…\n",
      "$ OCCP_label     \u001b[3m\u001b[90m<ord>\u001b[39m\u001b[23m \"PRS-Ushers, Lobby Attendants, And Ticket Takers\", NA, …\n",
      "$ POBP_label     \u001b[3m\u001b[90m<ord>\u001b[39m\u001b[23m \"Maryland/MD\", \"Sierra Leone\", \"Pennsylvania/PA\", \"Mary…\n"
     ]
    }
   ],
   "source": [
    "# retrieve ACS microdata\n",
    "state_pums <- get_pums(\n",
    "  variables = c(\n",
    "    \"ACCESS\", \"ADJINC\", \"AGEP\", \"CIT\", \"CITWP\", \"DECADE\", \"ELEP\", \"ENG\", \"FINCP\", \"GASP\", \"GRNTP\", \"GRPIP\", \"HHT\", \"HINCP\", \"HISPEED\", \"MIGSP\", \"MRGP\", \n",
    "      \"MV\",  \"NAICSP\", \"NATIVITY\", \"NOP\", \"NPF\", \"OCPIP\", \"OCCP\", \"PINCP\", \"PERNP\", \"POBP\", \"POVPIP\", \"PUMA\", \"REGION\", \"RNTP\", \"RT\", \"SCHL\", \"SEX\", \"ST\",\n",
    "      \"TAXAMT\", \"TEN\", \"WAGP\", \"WATP\", \"WGTP\", \"YOEP\"\n",
    "  ),\n",
    "  state = \"MD\",\n",
    "  survey = \"acs1\",\n",
    "  recode = TRUE\n",
    ")\n",
    "\n",
    "glimpse(state_pums)"
   ]
  }
 ],
 "metadata": {
  "kernelspec": {
   "display_name": "R:R",
   "language": "R",
   "name": "conda-env-R-r"
  },
  "language_info": {
   "codemirror_mode": "r",
   "file_extension": ".r",
   "mimetype": "text/x-r-source",
   "name": "R",
   "pygments_lexer": "r",
   "version": "4.1.2"
  }
 },
 "nbformat": 4,
 "nbformat_minor": 5
}
