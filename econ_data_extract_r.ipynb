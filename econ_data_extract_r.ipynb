{
 "cells": [
  {
   "cell_type": "markdown",
   "id": "9e01a8ff-ec62-4061-ae50-4fc369a34e4e",
   "metadata": {},
   "source": [
    "Connect to FRED via the fredr package - Short for Federal Reserve Economic Data, FRED is an online database consisting of hundreds of thousands of economic data time series from scores of national, international, public, and private sources. FRED, created and maintained by the Research Department at the Federal Reserve Bank of St. Louis, goes far beyond simply providing data: It combines data with a powerful mix of tools that help the user understand, interact with, display, and disseminate the data. In essence, FRED helps users tell their data stories. The purpose of this article is to guide the potential (or current) FRED user through the various aspects and tools of the database.\n",
    "\n",
    "This is likely the easiest way to get data from U.S. statistical agencies like the Census and the BLS\n",
    "\n",
    "In order to get this code to work you must obtain an api key from FRED: https://fredaccount.stlouisfed.org/apikeys"
   ]
  },
  {
   "cell_type": "markdown",
   "id": "b30d7ac3-2c1a-4dc1-8c4a-830d05d583c8",
   "metadata": {},
   "source": [
    "[![Open In SageMaker Studio Lab](https://studiolab.sagemaker.aws/studiolab.svg)](https://studiolab.sagemaker.aws/import/github/MarjorieRWillner/DisasterHack/blob/main/econ_data_extract_r.ipynb)\n"
   ]
  },
  {
   "cell_type": "code",
   "execution_count": null,
   "id": "b57a9be3-be22-4f71-9bd8-682584dc08ca",
   "metadata": {},
   "outputs": [
    {
     "name": "stderr",
     "output_type": "stream",
     "text": [
      "Warning message:\n",
      "“Failed to locate timezone database”\n",
      "── \u001b[1mAttaching packages\u001b[22m ─────────────────────────────────────── tidyverse 1.3.1 ──\n",
      "\n",
      "\u001b[32m✔\u001b[39m \u001b[34mggplot2\u001b[39m 3.3.5     \u001b[32m✔\u001b[39m \u001b[34mpurrr  \u001b[39m 0.3.4\n",
      "\u001b[32m✔\u001b[39m \u001b[34mtibble \u001b[39m 3.1.6     \u001b[32m✔\u001b[39m \u001b[34mdplyr  \u001b[39m 1.0.7\n",
      "\u001b[32m✔\u001b[39m \u001b[34mtidyr  \u001b[39m 1.1.4     \u001b[32m✔\u001b[39m \u001b[34mstringr\u001b[39m 1.4.0\n",
      "\u001b[32m✔\u001b[39m \u001b[34mreadr  \u001b[39m 2.1.1     \u001b[32m✔\u001b[39m \u001b[34mforcats\u001b[39m 0.5.1\n",
      "\n",
      "── \u001b[1mConflicts\u001b[22m ────────────────────────────────────────── tidyverse_conflicts() ──\n",
      "\u001b[31m✖\u001b[39m \u001b[34mdplyr\u001b[39m::\u001b[32mfilter()\u001b[39m masks \u001b[34mstats\u001b[39m::filter()\n",
      "\u001b[31m✖\u001b[39m \u001b[34mdplyr\u001b[39m::\u001b[32mlag()\u001b[39m    masks \u001b[34mstats\u001b[39m::lag()\n",
      "\n"
     ]
    },
    {
     "name": "stdout",
     "output_type": "stream",
     "text": [
      "Rows: 102\n",
      "Columns: 5\n",
      "$ date           \u001b[3m\u001b[90m<date>\u001b[39m\u001b[23m 2020-01-01, 2021-01-01, 2020-01-01, 2021-01-01, 2020-0…\n",
      "$ series_id      \u001b[3m\u001b[90m<chr>\u001b[39m\u001b[23m \"ALPOP\", \"ALPOP\", \"AKPOP\", \"AKPOP\", \"AZPOP\", \"AZPOP\", \"…\n",
      "$ value          \u001b[3m\u001b[90m<dbl>\u001b[39m\u001b[23m 5024.803, 5039.877, 732.441, 732.673, 7177.986, 7276.31…\n",
      "$ realtime_start \u001b[3m\u001b[90m<date>\u001b[39m\u001b[23m 2022-01-20, 2022-01-20, 2022-01-20, 2022-01-20, 2022-0…\n",
      "$ realtime_end   \u001b[3m\u001b[90m<date>\u001b[39m\u001b[23m 2022-01-20, 2022-01-20, 2022-01-20, 2022-01-20, 2022-0…\n"
     ]
    }
   ],
   "source": [
    "# This code will gather the population of each US state over time\n",
    "\n",
    "# install.packages(\"fredr\")\n",
    "# install.packages(\"tidyverse\")\n",
    "library(fredr)\n",
    "library(tidyverse)\n",
    "\n",
    "# your api key goes here\n",
    "fredr_set_key(\"\")\n",
    "\n",
    "# the fredr series id we want is DCPOP, FLPOP, VAPOP, MDPOP, etc. We will create\n",
    "# a list with all the states in the format of [ST]POP.\n",
    "state_id <- c(map_chr(state.abb, ~ paste0(.x, \"POP\")), \"DCPOP\")\n",
    "\n",
    "# We can now map over state_id and get the population for each state using the\n",
    "# fredr() function\n",
    "state_df <- map_dfr(\n",
    "  state_id,\n",
    "  ~ fredr(\n",
    "    series_id = .x, \n",
    "    observation_start = as.Date(\"2020-01-01\"), \n",
    "    observation_end = as.Date(\"2021-01-01\")\n",
    "    )\n",
    "  )\n",
    "\n",
    "glimpse(state_df)"
   ]
  },
  {
   "cell_type": "markdown",
   "id": "d6a04252-d9a2-4ac4-ab3a-4d05a78c474a",
   "metadata": {},
   "source": [
    "Connect to Census via the tidycensus package - tidycensus is an R package that allows users to interface with a select number of the US Census Bureau’s data APIs and return tidyverse-ready data frames, optionally with simple feature geometry included.\n",
    "\n",
    "Accessing the Census directly allows for retrievel of ACS microdata files so that we can combine in a way that makes sense for our project.\n",
    "\n",
    "\n",
    "\n",
    "To get started working with tidycensus, users should load the package along with the tidyverse package, and set their Census API key. A key can be obtained from http://api.census.gov/data/key_signup.html.\n",
    "\n",
    "\n",
    "NOTE: To install tidycensus in sagemake you need to run the following code in the terminal \n",
    "\n",
    "\"conda install -n R -c conda-forge r-tidycensus\"\n",
    "\n",
    "Reference: https://aws.amazon.com/blogs/machine-learning/creating-a-persistent-custom-r-environment-for-amazon-sagemaker/\n",
    "\n",
    "__________________________________________________________________________________________________________________________________"
   ]
  },
  {
   "cell_type": "markdown",
   "id": "2ceb26f0-a59d-488e-bf05-d268cf265331",
   "metadata": {},
   "source": [
    "get_pums() returns some technical variables by default without the user needing to request them specifically. These include:\n",
    "\n",
    "- SERIALNO: a serial number that uniquely identifies households in the sample;\n",
    "- SPORDER: the order of the person in the household; when combined with SERIALNO, uniquely identifies a person;\n",
    "- WGTP: the household weight;\n",
    "- PWGTP: the person weight\n",
    "- PUMA: Public Use Microdata Areas (PUMAs) are the smallest available geographies at which records are identifiable in the PUMS datasets. PUMAs are redrawn with each decennial US Census, and typically are home to 100,000-200,000 people. In large cities, a PUMA will represent a collection of nearby neighborhoods; in rural areas, it might represent several counties across a large area of a state.\n",
    "\n",
    "It is a long-form dataset that organizes specific value codes by variable so you know what you can get. You'll use information in the var_code column to fetch variables, but pay attention to the var_label, val_code, val_label, and data_type columns."
   ]
  },
  {
   "cell_type": "code",
   "execution_count": null,
   "id": "62fb55cf-af64-48e1-a850-1a1d6fc99a0d",
   "metadata": {},
   "outputs": [],
   "source": [
    "system(command = 'conda install -c r tidycensus --yes')"
   ]
  },
  {
   "cell_type": "code",
   "execution_count": null,
   "id": "974adb25-0aeb-4531-9398-99c1a7f2aa05",
   "metadata": {},
   "outputs": [
    {
     "name": "stderr",
     "output_type": "stream",
     "text": [
      "To install your API key for use in future sessions, run this function with `install = TRUE`.\n",
      "\n"
     ]
    },
    {
     "name": "stdout",
     "output_type": "stream",
     "text": [
      "Rows: 5,277\n",
      "Columns: 12\n",
      "$ survey     \u001b[3m\u001b[90m<chr>\u001b[39m\u001b[23m \"acs5\", \"acs5\", \"acs5\", \"acs5\", \"acs5\", \"acs5\", \"acs5\", \"ac…\n",
      "$ year       \u001b[3m\u001b[90m<chr>\u001b[39m\u001b[23m \"2019\", \"2019\", \"2019\", \"2019\", \"2019\", \"2019\", \"2019\", \"20…\n",
      "$ var_code   \u001b[3m\u001b[90m<chr>\u001b[39m\u001b[23m \"ENG\", \"ENG\", \"ENG\", \"ENG\", \"ENG\", \"FENGP\", \"FENGP\", \"ACCES…\n",
      "$ var_label  \u001b[3m\u001b[90m<chr>\u001b[39m\u001b[23m \"Ability to speak English\", \"Ability to speak English\", \"Ab…\n",
      "$ data_type  \u001b[3m\u001b[90m<chr>\u001b[39m\u001b[23m \"chr\", \"chr\", \"chr\", \"chr\", \"chr\", \"chr\", \"chr\", \"chr\", \"ch…\n",
      "$ level      \u001b[3m\u001b[90m<chr>\u001b[39m\u001b[23m \"person\", \"person\", \"person\", \"person\", \"person\", \"person\",…\n",
      "$ val_min    \u001b[3m\u001b[90m<chr>\u001b[39m\u001b[23m \"b\", \"1\", \"2\", \"3\", \"4\", \"0\", \"1\", \"b\", \"1\", \"2\", \"3\", \"b\",…\n",
      "$ val_max    \u001b[3m\u001b[90m<chr>\u001b[39m\u001b[23m \"b\", \"1\", \"2\", \"3\", \"4\", \"0\", \"1\", \"b\", \"1\", \"2\", \"3\", \"b\",…\n",
      "$ val_label  \u001b[3m\u001b[90m<chr>\u001b[39m\u001b[23m \"N/A (less than 5 years old/speaks only English)\", \"Very we…\n",
      "$ recode     \u001b[3m\u001b[90m<lgl>\u001b[39m\u001b[23m TRUE, TRUE, TRUE, TRUE, TRUE, TRUE, TRUE, TRUE, TRUE, TRUE,…\n",
      "$ val_length \u001b[3m\u001b[90m<int>\u001b[39m\u001b[23m 1, 1, 1, 1, 1, 1, 1, 1, 1, 1, 1, 1, 1, 1, 7, 7, 7, 7, 7, 7,…\n",
      "$ val_na     \u001b[3m\u001b[90m<dbl>\u001b[39m\u001b[23m 0, 0, 0, 0, 0, NA, NA, 0, 0, 0, 0, -1, -1, -1, NA, NA, NA, …\n"
     ]
    }
   ],
   "source": [
    "# install.packages(\"tidycensus\", repo=\"https://cran.rstudio.com/\", dependencies = TRUE)\n",
    "library(\"tidycensus\")\n",
    "\n",
    "# your api key goes here\n",
    "census_api_key('', overwrite = TRUE, install = FALSE)\n",
    "\n",
    "# we can get a list of all the variables that are available to us to choose from\n",
    "pums_var <- pums_variables %>%\n",
    "  filter(year == 2019, survey == \"acs5\") %>%\n",
    "  arrange(var_label) \n",
    "\n",
    "glimpse(pums_var)"
   ]
  },
  {
   "cell_type": "code",
   "execution_count": null,
   "id": "3e3d4147-3685-4ae7-b96b-ee46355615fc",
   "metadata": {},
   "outputs": [],
   "source": [
    "# use the get_pums() function to bring in all the microdata.\n",
    "state_pums <- get_pums(\n",
    "  variables = c(\n",
    "    \"ACCESS\", \"ADJINC\", \"AGEP\", \"CIT\", \"CITWP\", \"DECADE\", \"ELEP\", \"ENG\", \"FINCP\", \"GASP\", \"GRNTP\", \"GRPIP\", \"HHT\", \"HINCP\", \"HISPEED\", \"MIGSP\", \"MRGP\", \n",
    "      \"MV\",  \"NAICSP\", \"NATIVITY\", \"NOP\", \"NPF\", \"OCPIP\", \"OCCP\", \"PINCP\", \"PERNP\", \"POBP\", \"POVPIP\", \"PUMA\", \"REGION\", \"RNTP\", \"RT\", \"SCHL\", \"SEX\", \"ST\",\n",
    "      \"TAXAMT\", \"TEN\", \"WAGP\", \"WATP\", \"WGTP\", \"YOEP\"\n",
    "  ),\n",
    "  state = \"all\",\n",
    "  survey = \"acs1\",\n",
    "  recode = TRUE\n",
    ")"
   ]
  }
 ],
 "metadata": {
  "kernelspec": {
   "display_name": "R:R",
   "language": "R",
   "name": "conda-env-R-r"
  },
  "language_info": {
   "codemirror_mode": "r",
   "file_extension": ".r",
   "mimetype": "text/x-r-source",
   "name": "R",
   "pygments_lexer": "r",
   "version": "4.1.2"
  }
 },
 "nbformat": 4,
 "nbformat_minor": 5
}
