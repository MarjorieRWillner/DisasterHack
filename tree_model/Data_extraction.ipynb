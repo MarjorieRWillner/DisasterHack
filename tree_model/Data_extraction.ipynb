{
 "cells": [
  {
   "cell_type": "markdown",
   "id": "15cd1c3c-72de-4e83-824c-4a68fbacc27b",
   "metadata": {},
   "source": [
    "# Forest damage identification model"
   ]
  },
  {
   "cell_type": "code",
   "execution_count": 3,
   "id": "369822d5-f27a-4ffa-a824-7232b8c77275",
   "metadata": {},
   "outputs": [],
   "source": [
    "import geopandas as gpd\n",
    "import matplotlib.pyplot as plt\n",
    "import numpy\n",
    "import pandas\n",
    "import rasterio\n",
    "from rasterio.mask import mask\n",
    "import glob\n",
    "import pyproj\n",
    "from pyproj import Transformer\n",
    "from shapely.ops import transform as sh_transform\n",
    "import numpy\n",
    "import torch\n",
    "import torch.nn as nn\n",
    "import pickle\n",
    "import cv2\n",
    "from PIL import Image\n",
    "import timm\n",
    "import shapely.geometry\n",
    "from timm.data import resolve_data_config\n",
    "from timm.data.transforms_factory import create_transform"
   ]
  },
  {
   "cell_type": "markdown",
   "id": "905a082d-a08a-4901-bb08-3091dbb2ee10",
   "metadata": {},
   "source": [
    "Due to storage limitations the data extraction was done previous to notebook upload.  The inital data was downloaded from https://earthexplorer.usgs.gov/.  In future iterations STAC can be used to automatically download the target data, see STAC_Data notebook for intial desgin.  This geospatial extracted data is found in the processed directory. "
   ]
  },
  {
   "cell_type": "code",
   "execution_count": null,
   "id": "84fd82b2-5534-466f-a7a8-85e1b82e8c1c",
   "metadata": {},
   "outputs": [],
   "source": [
    "#read layer of target date, https://www.fs.fed.us/foresthealth/applied-sciences/mapping-reporting/detection-surveys.shtml\n",
    "#download and save bands to local: https://earthexplorer.usgs.gov/\n",
    "#should pivot to using stac catalog in .tar to ensure sorting is correct\n",
    "#You should grab B1-B7.tiffs but due to the extenadlable nature of the model any bands will do assuming \n",
    "#they are ordered consitentaly. \n",
    "geoDF = gpd.read_file('CONUS_Region5_2020.gdb', layer=0)\n",
    "with open('USFS_data.geojson', 'w') as f:\n",
    "    f.write(geoDF.to_json())\n",
    "\n",
    "\n",
    "#bbox = [ -120.4720, 38.5159, -120.1238, 38.7707] #larger area\n",
    "bbox = [ -120.2577, 38.6383, -120.2975, 38.6684]\n",
    "bbox_poly = shapely.geometry.box(*bbox, ccw=True)\n",
    "#bbox_poly = bbox_poly.buffer(0.01)\n",
    "files = glob.glob('image_bands/*')\n",
    "\n",
    "for i in range(0, len(files), 1):\n",
    "    file_bands = glob.glob(f'{files[i]}\\*')\n",
    "    file_bands = sorted(file_bands, reverse=False)\n",
    "\n",
    "    #See https://github.com/marvingabler/cog_how_to for examples of how to extract a bbox.\n",
    "    #We open the first band and obtain the correct metadata for our region of intrest.\n",
    "    with rasterio.open(file_bands[0]) as geo_fp:\n",
    "        #set up transformer to reproject bbox to image crs. \n",
    "        transformer_poly = Transformer.from_crs(\"epsg:4326\", geo_fp.crs)\n",
    "        profile = geo_fp.profile.copy()\n",
    "        project = pyproj.Transformer.from_crs(4326, geo_fp.crs, always_xy=True).transform\n",
    "        bbox_projected = sh_transform(project, bbox_poly)\n",
    "        coord_upperleft = transformer_poly.transform(bbox[3], bbox[0])\n",
    "        coord_lowerright = transformer_poly.transform(bbox[1], bbox[2])\n",
    "        out, t = rasterio.mask.mask(geo_fp, [bbox_projected], crop=True, invert=False)\n",
    "        #update metadata with correct shape which has changed due to masking\n",
    "        height, width = out[0].shape\n",
    "        profile[\"width\"] = width\n",
    "        profile[\"height\"] = height\n",
    "        new_transform = rasterio.Affine(profile[\"transform\"][0], profile[\"transform\"][1], coord_upperleft[0], profile[\"transform\"][3], profile[\"transform\"][4], coord_upperleft[1])\n",
    "        profile[\"transform\"] = new_transform\n",
    "    profile.update(count=len(file_bands))\n",
    "    #We then apply this created metadata and make a stacked tiff. \n",
    "    with rasterio.open(f'processed/stack_bbox_{i}.tif', \"w\", **profile) as dst:\n",
    "        for id_band, link in enumerate(file_bands, start=1):\n",
    "            with rasterio.open(link) as geo_fp_sub:\n",
    "                out, _ = rasterio.mask.mask(geo_fp_sub, [bbox_poly_project], crop=True, invert=False)\n",
    "                if numpy.all(out == 0):\n",
    "                    print(\"bad:\", files[i])\n",
    "                dst.write_band(id_band, out[0])"
   ]
  },
  {
   "cell_type": "markdown",
   "id": "ec98391b-b31e-41f7-8577-0f0066e8fd5b",
   "metadata": {},
   "source": [
    "This section of code creates the test and training masking datasets using the USFS tree servery data. "
   ]
  },
  {
   "cell_type": "code",
   "execution_count": 4,
   "id": "940517d4-4ddf-4cc3-abbd-a75656dc2551",
   "metadata": {},
   "outputs": [
    {
     "name": "stdout",
     "output_type": "stream",
     "text": [
      "(8, 116, 120) 7740.040445402299 1\n",
      "(8, 116, 120) 10931.749281609196 2\n",
      "(8, 116, 120) 7719.250574712643 3\n",
      "(8, 116, 120) 14959.931752873563 4\n",
      "(8, 116, 120) 7981.786422413793 5\n",
      "(8, 116, 120) 12920.193390804598 6\n",
      "(8, 116, 120) 7738.546048850575 7\n"
     ]
    },
    {
     "data": {
      "image/png": "[encoded data removed]",
      "text/plain": [
       "<Figure size 432x288 with 1 Axes>"
      ]
     },
     "metadata": {
      "needs_background": "light"
     },
     "output_type": "display_data"
    }
   ],
   "source": [
    "#data chipping\n",
    "files = glob.glob('processed/*')\n",
    "\n",
    "#This loads all the images and creases a stacked array\n",
    "for id_band, image in enumerate(files, start=1):\n",
    "    with rasterio.open(image) as geo_fp_sub:\n",
    "        subset = geo_fp_sub.read()\n",
    "        profile = geo_fp_sub.profile.copy()\n",
    "        print(subset.shape, subset[2].mean(), id_band)\n",
    "        if id_band == 1:\n",
    "            out_stacked = subset\n",
    "        else:\n",
    "            out_stacked = numpy.concatenate((out_stacked, subset), axis = 0)\n",
    "\n",
    "\n",
    "#This takes that stacked array and saves it\n",
    "profile.update(count=8*len(files))\n",
    "\n",
    "with rasterio.open('processed_full/stack_bbox_stacked_fixed.tif', \"w\", **profile) as dst:\n",
    "            dst.write(out_stacked)\n",
    "        \n",
    "#We then load the USFS data into a geopandas data frame.  \n",
    " \n",
    "data = gpd.read_file('USFS_data.geojson')\n",
    "data = data.to_crs(profile.data['crs'])\n",
    "\n",
    "#This loop looks at the PERCENT_AFFECTED_CODE which ranges from 1 to 3 and creates a mask that is populated with\n",
    "#either 0 for no data, or the percent affected code. \n",
    "for code in range(1, 3, 1):\n",
    "    data_tm = data.loc[data['PERCENT_AFFECTED_CODE'] == code]\n",
    "    with rasterio.open('processed_full/stack_bbox_stacked_fixed.tif') as geo_fp:\n",
    "        out, _ = rasterio.mask.mask(geo_fp, data_tm.geometry, crop=False, invert=False)\n",
    "        out[out > 0] = code\n",
    "    if code == 1:\n",
    "        out_masked = out[0]\n",
    "    else:\n",
    "        out_masked = out_masked + out[0]\n",
    "##########################################\n",
    "\n",
    "#This section of code created a split_num (in this case 80%) that devides the dataset into 80/20 for testing and training. \n",
    "#This test/train is saved as a mask as its own band\n",
    "plt.imshow(out_masked)\n",
    "split = numpy.zeros(out_masked.shape)\n",
    "split_num = 0.8\n",
    "split[:,0:int(out_masked.shape[1]*split_num)] = 1\n",
    "plt.imshow(split)\n",
    "\n",
    "#Finally combine the masks and data into one array.\n",
    "out_stacked_final = numpy.vstack((split.reshape(1,out_stacked.shape[1],out_stacked.shape[2]),\n",
    "                                  out_masked.reshape(1,out_stacked.shape[1],out_stacked.shape[2]), out_stacked ))\n",
    "\n",
    "profile['count'] = profile['count']+2\n",
    "with rasterio.open('processed_full/final_data.tif', \"w\", **profile) as dst:\n",
    "    dst.write(out_stacked_final)\n"
   ]
  },
  {
   "cell_type": "markdown",
   "id": "fefa4199-2879-45d7-8708-6c90d822e422",
   "metadata": {},
   "source": [
    "This section creates the ImageNet feature resepentations for classification."
   ]
  },
  {
   "cell_type": "code",
   "execution_count": 5,
   "id": "13b9431b-9cc9-4c02-b31f-755fbd3fe766",
   "metadata": {},
   "outputs": [
    {
     "name": "stderr",
     "output_type": "stream",
     "text": [
      "/home/studio-lab-user/.conda/envs/default/lib/python3.9/site-packages/torchvision/transforms/transforms.py:287: UserWarning: Argument interpolation should be of type InterpolationMode instead of int. Please, use InterpolationMode enum.\n",
      "  warnings.warn(\n"
     ]
    },
    {
     "name": "stdout",
     "output_type": "stream",
     "text": [
      "0.0\n",
      "0.008620689655172414\n",
      "0.017241379310344827\n",
      "0.02586206896551724\n",
      "0.034482758620689655\n",
      "0.04310344827586207\n",
      "0.05172413793103448\n",
      "0.0603448275862069\n",
      "0.06896551724137931\n",
      "0.07758620689655173\n",
      "0.08620689655172414\n",
      "0.09482758620689655\n",
      "0.10344827586206896\n",
      "0.11206896551724138\n",
      "0.1206896551724138\n",
      "0.12931034482758622\n",
      "0.13793103448275862\n",
      "0.14655172413793102\n",
      "0.15517241379310345\n",
      "0.16379310344827586\n",
      "0.1724137931034483\n",
      "0.1810344827586207\n",
      "0.1896551724137931\n",
      "0.19827586206896552\n",
      "0.20689655172413793\n",
      "0.21551724137931033\n",
      "0.22413793103448276\n",
      "0.23275862068965517\n",
      "0.2413793103448276\n",
      "0.25\n",
      "0.25862068965517243\n",
      "0.2672413793103448\n",
      "0.27586206896551724\n",
      "0.28448275862068967\n",
      "0.29310344827586204\n",
      "0.3017241379310345\n",
      "0.3103448275862069\n",
      "0.31896551724137934\n",
      "0.3275862068965517\n",
      "0.33620689655172414\n",
      "0.3448275862068966\n",
      "0.35344827586206895\n",
      "0.3620689655172414\n",
      "0.3706896551724138\n",
      "0.3793103448275862\n",
      "0.3879310344827586\n",
      "0.39655172413793105\n",
      "0.4051724137931034\n",
      "0.41379310344827586\n",
      "0.4224137931034483\n",
      "0.43103448275862066\n",
      "0.4396551724137931\n",
      "0.4482758620689655\n",
      "0.45689655172413796\n",
      "0.46551724137931033\n",
      "0.47413793103448276\n",
      "0.4827586206896552\n",
      "0.49137931034482757\n",
      "0.5\n",
      "0.5086206896551724\n",
      "0.5172413793103449\n",
      "0.5258620689655172\n",
      "0.5344827586206896\n",
      "0.5431034482758621\n",
      "0.5517241379310345\n",
      "0.5603448275862069\n",
      "0.5689655172413793\n",
      "0.5775862068965517\n",
      "0.5862068965517241\n",
      "0.5948275862068966\n",
      "0.603448275862069\n",
      "0.6120689655172413\n",
      "0.6206896551724138\n",
      "0.6293103448275862\n",
      "0.6379310344827587\n",
      "0.646551724137931\n",
      "0.6551724137931034\n",
      "0.6637931034482759\n",
      "0.6724137931034483\n",
      "0.6810344827586207\n",
      "0.6896551724137931\n",
      "0.6982758620689655\n",
      "0.7068965517241379\n",
      "0.7155172413793104\n",
      "0.7241379310344828\n",
      "0.7327586206896551\n",
      "0.7413793103448276\n",
      "0.75\n",
      "0.7586206896551724\n",
      "0.7672413793103449\n",
      "0.7758620689655172\n",
      "0.7844827586206896\n",
      "0.7931034482758621\n",
      "0.8017241379310345\n",
      "0.8103448275862069\n",
      "0.8189655172413793\n",
      "0.8275862068965517\n",
      "0.8362068965517241\n",
      "0.8448275862068966\n",
      "0.853448275862069\n",
      "0.8620689655172413\n",
      "0.8706896551724138\n",
      "0.8793103448275862\n",
      "0.8879310344827587\n",
      "0.896551724137931\n",
      "0.9051724137931034\n",
      "0.9137931034482759\n",
      "0.9224137931034483\n",
      "0.9310344827586207\n",
      "0.9396551724137931\n",
      "0.9482758620689655\n",
      "0.9568965517241379\n",
      "0.9655172413793104\n",
      "0.9741379310344828\n",
      "0.9827586206896551\n",
      "0.9913793103448276\n"
     ]
    }
   ],
   "source": [
    "model = timm.create_model('hrnet_w18_small', pretrained=True)\n",
    "model.classifier = nn.Sequential(*list(model.classifier.children())[:-1])\n",
    "model.eval()\n",
    "config = resolve_data_config({}, model=model)\n",
    "transform = create_transform(**config)\n",
    "\n",
    "#toda: add scrambelled parameter\n",
    "random = False\n",
    "\n",
    "data = out_stacked_final[2:,:,:]\n",
    "\n",
    "def feature_creation(data, random = False, show = False):\n",
    "    final_imagenet = numpy.zeros((2048,  data.shape[1],  data.shape[2]))\n",
    "    for ii in range(0, data.shape[1], 1):\n",
    "        print(ii / data.shape[1])\n",
    "        for iii in range(0, data.shape[2], 1):\n",
    "            pixel = data[:, ii, iii]\n",
    "            if random == True:\n",
    "                numpy.random.shuffle(pixel)\n",
    "            pixel = pixel.reshape(int(pixel.shape[0]/8), 8)\n",
    "            pixel_out = numpy.zeros((3, pixel.shape[0], pixel.shape[1]))\n",
    "            pixel_out[0,:,:] = pixel/3\n",
    "            pixel_out[1,:,:] = pixel/3\n",
    "            pixel_out[2,:,:] = pixel/3\n",
    "            norm_image = cv2.normalize(pixel_out, None, alpha=0, beta=255, norm_type=cv2.NORM_MINMAX, dtype=cv2.CV_32F)\n",
    "            norm_image = norm_image.astype(numpy.uint8)\n",
    "            PIL_image = Image.fromarray(norm_image.T, 'RGB')\n",
    "            if show == True:\n",
    "                plt.imshow(pixel)\n",
    "                size = 256, 256\n",
    "                im = PIL_image.resize(size, Image.ANTIALIAS)\n",
    "                im.show()\n",
    "            tensor = transform(PIL_image).unsqueeze(0)  # transform and add batch dimension\n",
    "            with torch.no_grad():\n",
    "                out = model(tensor)\n",
    "            results = out.detach().numpy()\n",
    "            final_imagenet[:, ii , iii] = results\n",
    "    return final_imagenet\n",
    "\n",
    "\n",
    "imagenet_features = feature_creation(data, random = False, show = False)\n",
    "out_stacked_features_full = numpy.vstack((out_stacked_final[0:2,:,:], imagenet_features))\n",
    "numpy.save(\"small_hr_labled.npy\", out_stacked_features_full)"
   ]
  },
  {
   "cell_type": "markdown",
   "id": "e4d336d6-4563-462d-b18e-4b40751aa92d",
   "metadata": {},
   "source": [
    "This section creates the classifcation of the pixel using a basic regesstion with partial fit to allow for using smaller slices of the dataset.  "
   ]
  },
  {
   "cell_type": "code",
   "execution_count": 6,
   "id": "c7cb3161-1d09-4cfe-9789-aa446b9fc9d7",
   "metadata": {},
   "outputs": [],
   "source": [
    "def model(out_stacked_features_full):\n",
    "    import pandas\n",
    "    import numpy\n",
    "    import matplotlib.pyplot as plt\n",
    "    import numpy as np\n",
    "    from sklearn import datasets, ensemble, linear_model\n",
    "    from sklearn.inspection import permutation_importance\n",
    "    from sklearn.metrics import mean_squared_error, r2_score\n",
    "    from sklearn.model_selection import train_test_split\n",
    "    reg = linear_model.SGDRegressor()\n",
    "    mse = []\n",
    "    r2 = []\n",
    "    for batch in range(0, 10, 1):\n",
    "        try:\n",
    "            # since we have a large image we slice the data down a bit, this tiling can be shifted around and an ensemblemodel created\n",
    "            batch_size = int(out_stacked_features_full.shape[1] * 0.1)\n",
    "            out_stacked_features = out_stacked_features_full[:, int(batch * batch_size):int((batch + 1) * batch_size), :]\n",
    "\n",
    "            X_train = numpy.zeros(\n",
    "                (out_stacked_features.shape[1] * out_stacked_features.shape[2], out_stacked_features.shape[0] - 2))\n",
    "            y_train = numpy.zeros((out_stacked_features.shape[1] * out_stacked_features.shape[2]))\n",
    "\n",
    "            X_test = numpy.zeros(\n",
    "                (out_stacked_features.shape[1] * out_stacked_features.shape[2], out_stacked_features.shape[0] - 2))\n",
    "            y_test = numpy.zeros((out_stacked_features.shape[1] * out_stacked_features.shape[2]))\n",
    "\n",
    "            test_counter = 0\n",
    "            train_counter = 0\n",
    "            for i in range(0, out_stacked_features.shape[1], 1):\n",
    "                for ii in range(0, out_stacked_features.shape[2], 1):\n",
    "                    if out_stacked_features[0, i, ii] == 1:\n",
    "                        X_train[train_counter, :] = out_stacked_features[2:, i, ii].copy()\n",
    "                        y_train[train_counter] = out_stacked_features[1, i, ii]\n",
    "                        train_counter += 1\n",
    "                    elif out_stacked_features[0, i, ii] == 0:\n",
    "                        X_test[test_counter, :] = out_stacked_features[2:, i, ii].copy()\n",
    "                        y_test[test_counter] = out_stacked_features[1, i, ii]\n",
    "                        test_counter += 1\n",
    "                    else:\n",
    "                        continue\n",
    "                        #print(\"hit outside bound\")\n",
    "\n",
    "\n",
    "            X_train = X_train[0:train_counter, :]\n",
    "            y_train = y_train[0:train_counter]\n",
    "            X_test = X_test[0:test_counter, :]\n",
    "            y_test = y_test[0:test_counter]\n",
    "\n",
    "            #reg = ensemble.GradientBoostingRegressor(**params)\n",
    "            reg.partial_fit(X_train, y_train)\n",
    "            mse.append(mean_squared_error(y_test, reg.predict(X_test)))\n",
    "            r2.append(r2_score(y_test, reg.predict(X_test)))\n",
    "        except:\n",
    "            print(\"batch failed\")\n",
    "\n",
    "    return reg, mse, r2\n",
    "\n",
    "\n",
    "\n",
    "model_1, mse, r2 = model(out_stacked_features_full)\n",
    "\n",
    "# save\n",
    "with open('model_hrnet_small.pkl','wb') as f:\n",
    "    pickle.dump(model_1,f)"
   ]
  },
  {
   "cell_type": "markdown",
   "id": "cb2a75af-5562-47fa-8483-119b75ab4e43",
   "metadata": {},
   "source": [
    "Infeance on the holdout set and assoaciated vizualizations. "
   ]
  },
  {
   "cell_type": "code",
   "execution_count": 7,
   "id": "71b13963-f379-4538-90fc-6796add7a55c",
   "metadata": {},
   "outputs": [
    {
     "data": {
      "image/png": "[encoded data removed]",
      "text/plain": [
       "<Figure size 936x216 with 7 Axes>"
      ]
     },
     "metadata": {
      "needs_background": "light"
     },
     "output_type": "display_data"
    }
   ],
   "source": [
    "#########viz\n",
    "out_viz = numpy.zeros((1, out_stacked_features_full.shape[1], out_stacked_features_full.shape[2]))\n",
    "for i in range(0, out_stacked_features_full.shape[1], 1):\n",
    "    for ii in range(0, out_stacked_features_full.shape[2], 1):\n",
    "        out_viz[0, i, ii] = model_1.predict(out_stacked_features_full[2:,i,ii].reshape(1, -1))\n",
    "\n",
    "from  matplotlib.colors import LinearSegmentedColormap\n",
    "cmap=LinearSegmentedColormap.from_list('gr',[\"g\", \"w\", \"r\"], N=100)\n",
    "\n",
    "\n",
    "#out_viz_segment = np.where(out_viz[0] > out_viz[0].mean(),1,0)\n",
    "out_viz_segment = (2*(out_viz[0] - np.min(out_viz[0]))/np.ptp(out_viz[0])).astype(int)\n",
    "\n",
    "fig, ((ax1, ax2), (ax3, ax4)) = plt.subplots(figsize=(13, 3), ncols=2, nrows=2)\n",
    "#model_output = ax1.imshow(out_viz[0], vmin=0, cmap='Reds')\n",
    "model_output = ax1.imshow(out_viz_segment, vmin=0, cmap='Reds')\n",
    "fig.colorbar(model_output, ax=ax1, shrink=0.7)\n",
    "ax1.axvline(int(out_masked.shape[1]*split_num), 0, 1, color='gray')\n",
    "gt = ax2.imshow(out_stacked_features_full[1], cmap='Reds')\n",
    "fig.colorbar(gt, ax=ax2, shrink=0.7)\n",
    "error = ax3.imshow((abs(out_stacked_features_full[1]-out_viz_segment)/(out_stacked_features_full[1]+0.00000001)),cmap=cmap)\n",
    "fig.colorbar(error, ax=ax3, shrink=0.7)\n",
    "ax3.axvline(int(out_masked.shape[1]*split_num), 0, 1, color='gray')\n",
    "r2 = ax4.scatter(out_stacked_features_full[1].reshape(-1, 1), out_viz[0].reshape(-1, 1))\n",
    "ax1.title.set_text('Model Output')\n",
    "ax2.title.set_text('Ground Truth')\n",
    "ax3.title.set_text('% Abs Error')\n",
    "ax4.title.set_text('Scatter Plot')\n",
    "ax4.set_xlabel(\"Ground Truth\")\n",
    "ax4.set_ylabel(\"Model Output\")\n",
    "plt.show()\n",
    "\n",
    "fig.save('metrics.png')"
   ]
  },
  {
   "cell_type": "markdown",
   "id": "ebc59612-7da3-47d9-9820-e1ff097f7e08",
   "metadata": {},
   "source": [
    "Finally, we write out the asset as a geotiff. "
   ]
  },
  {
   "cell_type": "code",
   "execution_count": 8,
   "id": "a8e4546a-551a-4254-9888-92d2ad16c4a2",
   "metadata": {},
   "outputs": [],
   "source": [
    "profile.update(count=1)\n",
    "\n",
    "with rasterio.open('hazard_map.tif', \"w\", **profile) as dst:\n",
    "    dst.write(out_viz*100)         "
   ]
  },
  {
   "cell_type": "code",
   "execution_count": 9,
   "id": "7c4c8679-2d9c-4c5a-8f00-411e81608fef",
   "metadata": {},
   "outputs": [
    {
     "data": {
      "text/plain": [
       "<matplotlib.image.AxesImage at 0x7fd5fdbdd610>"
      ]
     },
     "execution_count": 9,
     "metadata": {},
     "output_type": "execute_result"
    },
    {
     "data": {
      "image/png": "[encoded data removed]",
      "text/plain": [
       "<Figure size 432x288 with 1 Axes>"
      ]
     },
     "metadata": {
      "needs_background": "light"
     },
     "output_type": "display_data"
    }
   ],
   "source": [
    "src = rasterio.open('hazard_map.tif')\n",
    "plt.imshow(src.read(1), cmap='Reds')"
   ]
  }
 ],
 "metadata": {
  "kernelspec": {
   "display_name": "Python 3",
   "language": "python",
   "name": "python3"
  },
  "language_info": {
   "codemirror_mode": {
    "name": "ipython",
    "version": 3
   },
   "file_extension": ".py",
   "mimetype": "text/x-python",
   "name": "python",
   "nbconvert_exporter": "python",
   "pygments_lexer": "ipython3",
   "version": "3.8.8"
  }
 },
 "nbformat": 4,
 "nbformat_minor": 5
}
